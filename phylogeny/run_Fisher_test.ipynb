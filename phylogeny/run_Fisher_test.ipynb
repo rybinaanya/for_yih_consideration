{
 "cells": [
  {
   "cell_type": "code",
   "execution_count": 23,
   "id": "c72a3c92-2df9-44dd-8ce9-a66db32759cb",
   "metadata": {},
   "outputs": [],
   "source": [
    "import pandas as pd\n",
    "import warnings\n",
    "from scipy.stats import fisher_exact\n",
    "import pandas as pd\n",
    "import numpy as np\n",
    "warnings.filterwarnings('ignore')\n",
    "warnings.simplefilter('ignore')"
   ]
  },
  {
   "cell_type": "code",
   "execution_count": 24,
   "id": "6d701b32-25db-4006-b299-c47f8f1bde52",
   "metadata": {},
   "outputs": [
    {
     "data": {
      "text/html": [
       "<div>\n",
       "<style scoped>\n",
       "    .dataframe tbody tr th:only-of-type {\n",
       "        vertical-align: middle;\n",
       "    }\n",
       "\n",
       "    .dataframe tbody tr th {\n",
       "        vertical-align: top;\n",
       "    }\n",
       "\n",
       "    .dataframe thead th {\n",
       "        text-align: right;\n",
       "    }\n",
       "</style>\n",
       "<table border=\"1\" class=\"dataframe\">\n",
       "  <thead>\n",
       "    <tr style=\"text-align: right;\">\n",
       "      <th></th>\n",
       "      <th>AssemblyID</th>\n",
       "      <th>AssemblyName</th>\n",
       "      <th>Organism</th>\n",
       "      <th>Type</th>\n",
       "      <th>GenBankID</th>\n",
       "      <th>RefSeqID</th>\n",
       "      <th>length(bp)</th>\n",
       "      <th>CDSs</th>\n",
       "      <th>MobElemCount</th>\n",
       "      <th>ISTransposaseCount(GB)</th>\n",
       "      <th>ISTransposaseCount(RF)</th>\n",
       "      <th>ISTransposaseCount(ISsaga)</th>\n",
       "      <th>Cluster</th>\n",
       "      <th>Info</th>\n",
       "    </tr>\n",
       "  </thead>\n",
       "  <tbody>\n",
       "    <tr>\n",
       "      <th>0</th>\n",
       "      <td>GCA_002310615.1</td>\n",
       "      <td>ASM231061v1</td>\n",
       "      <td>Escherichia coli 1190</td>\n",
       "      <td>Chromosome</td>\n",
       "      <td>CP023386.1</td>\n",
       "      <td>NZ_CP023386.1</td>\n",
       "      <td>4900891</td>\n",
       "      <td>4882</td>\n",
       "      <td>0.0</td>\n",
       "      <td>35</td>\n",
       "      <td>36</td>\n",
       "      <td>46/57</td>\n",
       "      <td>1 (D)</td>\n",
       "      <td>NaN</td>\n",
       "    </tr>\n",
       "    <tr>\n",
       "      <th>1</th>\n",
       "      <td>GCA_002310615.1</td>\n",
       "      <td>ASM231061v1</td>\n",
       "      <td>Escherichia coli 1190</td>\n",
       "      <td>Plasmid</td>\n",
       "      <td>CP023387.1</td>\n",
       "      <td>NZ_CP023387.1</td>\n",
       "      <td>86147</td>\n",
       "      <td>112</td>\n",
       "      <td>0.0</td>\n",
       "      <td>0</td>\n",
       "      <td>0</td>\n",
       "      <td>NaN</td>\n",
       "      <td>1 (D)</td>\n",
       "      <td>NaN</td>\n",
       "    </tr>\n",
       "    <tr>\n",
       "      <th>2</th>\n",
       "      <td>GCA_002310595.1</td>\n",
       "      <td>ASM231059v1</td>\n",
       "      <td>Escherichia coli 144</td>\n",
       "      <td>Chromosome</td>\n",
       "      <td>CP023364.1</td>\n",
       "      <td>NZ_CP023364.1</td>\n",
       "      <td>5134443</td>\n",
       "      <td>5049</td>\n",
       "      <td>0.0</td>\n",
       "      <td>61</td>\n",
       "      <td>61</td>\n",
       "      <td>82/96</td>\n",
       "      <td>1 (D)</td>\n",
       "      <td>NaN</td>\n",
       "    </tr>\n",
       "    <tr>\n",
       "      <th>3</th>\n",
       "      <td>GCA_002310595.1</td>\n",
       "      <td>ASM231059v1</td>\n",
       "      <td>Escherichia coli 144</td>\n",
       "      <td>Plasmid</td>\n",
       "      <td>CP023365.1</td>\n",
       "      <td>NZ_CP023365.1</td>\n",
       "      <td>92421</td>\n",
       "      <td>127</td>\n",
       "      <td>0.0</td>\n",
       "      <td>1</td>\n",
       "      <td>1</td>\n",
       "      <td>NaN</td>\n",
       "      <td>1 (D)</td>\n",
       "      <td>NaN</td>\n",
       "    </tr>\n",
       "    <tr>\n",
       "      <th>4</th>\n",
       "      <td>GCA_002310595.1</td>\n",
       "      <td>ASM231059v1</td>\n",
       "      <td>Escherichia coli 144</td>\n",
       "      <td>Plasmid</td>\n",
       "      <td>CP023363.1</td>\n",
       "      <td>NZ_CP023363.1</td>\n",
       "      <td>134388</td>\n",
       "      <td>180</td>\n",
       "      <td>0.0</td>\n",
       "      <td>12</td>\n",
       "      <td>12</td>\n",
       "      <td>NaN</td>\n",
       "      <td>1 (D)</td>\n",
       "      <td>NaN</td>\n",
       "    </tr>\n",
       "  </tbody>\n",
       "</table>\n",
       "</div>"
      ],
      "text/plain": [
       "        AssemblyID AssemblyName               Organism        Type  \\\n",
       "0  GCA_002310615.1  ASM231061v1  Escherichia coli 1190  Chromosome   \n",
       "1  GCA_002310615.1  ASM231061v1  Escherichia coli 1190     Plasmid   \n",
       "2  GCA_002310595.1  ASM231059v1   Escherichia coli 144  Chromosome   \n",
       "3  GCA_002310595.1  ASM231059v1   Escherichia coli 144     Plasmid   \n",
       "4  GCA_002310595.1  ASM231059v1   Escherichia coli 144     Plasmid   \n",
       "\n",
       "    GenBankID       RefSeqID  length(bp)  CDSs  MobElemCount  \\\n",
       "0  CP023386.1  NZ_CP023386.1     4900891  4882           0.0   \n",
       "1  CP023387.1  NZ_CP023387.1       86147   112           0.0   \n",
       "2  CP023364.1  NZ_CP023364.1     5134443  5049           0.0   \n",
       "3  CP023365.1  NZ_CP023365.1       92421   127           0.0   \n",
       "4  CP023363.1  NZ_CP023363.1      134388   180           0.0   \n",
       "\n",
       "   ISTransposaseCount(GB) ISTransposaseCount(RF) ISTransposaseCount(ISsaga)  \\\n",
       "0                      35                     36                      46/57   \n",
       "1                       0                      0                        NaN   \n",
       "2                      61                     61                      82/96   \n",
       "3                       1                      1                        NaN   \n",
       "4                      12                     12                        NaN   \n",
       "\n",
       "  Cluster Info  \n",
       "0   1 (D)  NaN  \n",
       "1   1 (D)  NaN  \n",
       "2   1 (D)  NaN  \n",
       "3   1 (D)  NaN  \n",
       "4   1 (D)  NaN  "
      ]
     },
     "execution_count": 24,
     "metadata": {},
     "output_type": "execute_result"
    }
   ],
   "source": [
    "# statstics on E. coli strains\n",
    "total_stat = pd.read_csv('total_stats.csv', sep=',')\n",
    "total_stat.head()"
   ]
  },
  {
   "cell_type": "code",
   "execution_count": 27,
   "id": "a000253f-0336-4091-bb40-1a1e5cf60591",
   "metadata": {},
   "outputs": [
    {
     "data": {
      "text/plain": [
       "Info\n",
       "STEC           119\n",
       "shigellosis    110\n",
       "ExPEC           86\n",
       "ETEC            34\n",
       "APEC            18\n",
       "EPEC            10\n",
       "AIEC             5\n",
       "EAEC             3\n",
       "EIEC             3\n",
       "Name: count, dtype: int64"
      ]
     },
     "execution_count": 27,
     "metadata": {},
     "output_type": "execute_result"
    }
   ],
   "source": [
    "total_stat.Info.value_counts()"
   ]
  },
  {
   "cell_type": "code",
   "execution_count": 25,
   "id": "ea8ac207-b1ec-42d2-8d44-4d81d10acc0c",
   "metadata": {},
   "outputs": [],
   "source": [
    "# metadata on yih loci composition\n",
    "yih_homologs_loci = pd.read_csv('yih_homologs_loci.csv', \n",
    "                                sep='\\t')\n"
   ]
  },
  {
   "cell_type": "code",
   "execution_count": 28,
   "id": "c1d88d99-300c-4431-9163-446bb29b5a95",
   "metadata": {},
   "outputs": [],
   "source": [
    "yih_homologs_loci['variant'] = yih_homologs_loci.set_queryGenes_locus.apply(lambda x: \n",
    "                                             'long' if 'yihQ' in x or 'yihS' in x else 'short')"
   ]
  },
  {
   "cell_type": "code",
   "execution_count": 29,
   "id": "df9a9454-195d-4a2d-8a56-483f1c8114a4",
   "metadata": {},
   "outputs": [],
   "source": [
    "yih_homologs_loci['Info']=yih_homologs_loci.genome_id.\\\n",
    "map(dict(zip(total_stat.AssemblyID, total_stat.Info)))"
   ]
  },
  {
   "cell_type": "code",
   "execution_count": 30,
   "id": "ad76dd97-c302-404c-83c4-636f09aebe29",
   "metadata": {},
   "outputs": [],
   "source": [
    "# prepare data\n",
    "yih_homologs_loci_drop = yih_homologs_loci.\\\n",
    "drop_duplicates('set_locusTag_locus') #.Info.value_counts()\n",
    "\n",
    "yih_homologs_loci_drop['patho_status'] = yih_homologs_loci_drop.Info\n",
    "yih_homologs_loci_drop['patho_status'] = yih_homologs_loci_drop['patho_status'].\\\n",
    "fillna( 'non-pathpgenic')\n",
    "yih_homologs_loci_drop['patho_status'] = yih_homologs_loci_drop['patho_status'].\\\n",
    "apply(lambda x: 'non-pathpgenic' if x == 'non-pathpgenic' else 'pathpgenic')"
   ]
  },
  {
   "cell_type": "code",
   "execution_count": 31,
   "id": "4a710b6c-fec2-49dc-924c-96a989573c0a",
   "metadata": {},
   "outputs": [
    {
     "name": "stdout",
     "output_type": "stream",
     "text": [
      "variant         long  short\n",
      "patho_status               \n",
      "non-pathpgenic   202     78\n",
      "pathpgenic        63     65\n",
      "Odds Ratio = 2.67, p-value = 0.000011212\n"
     ]
    }
   ],
   "source": [
    "# construct contingency table\n",
    "contingency_table = pd.crosstab(\n",
    "    yih_homologs_loci_drop[\"patho_status\"], \n",
    "    yih_homologs_loci_drop[\"variant\"]\n",
    ")\n",
    "print(contingency_table)\n",
    "\n",
    "# construct fisher_exact test\n",
    "odds_ratio, p_value = fisher_exact(contingency_table)\n",
    "print(f\"Odds Ratio = {odds_ratio:.2f}, p-value = {p_value:.9f}\")\n"
   ]
  },
  {
   "cell_type": "raw",
   "id": "a604ee74-fa97-4f2d-8a62-c16be465d589",
   "metadata": {},
   "source": [
    "Short loci are significantly associated with pathogenic E. coli strains (Fisher's Exact Test; Odds Ratio = 2.67, p < 0.001 (p-value = 0.000011212))."
   ]
  },
  {
   "cell_type": "code",
   "execution_count": null,
   "id": "d0f54aa0-078f-444a-a2f6-fd3f94300824",
   "metadata": {},
   "outputs": [],
   "source": []
  }
 ],
 "metadata": {
  "kernelspec": {
   "display_name": "Python 3 (ipykernel)",
   "language": "python",
   "name": "python3"
  },
  "language_info": {
   "codemirror_mode": {
    "name": "ipython",
    "version": 3
   },
   "file_extension": ".py",
   "mimetype": "text/x-python",
   "name": "python",
   "nbconvert_exporter": "python",
   "pygments_lexer": "ipython3",
   "version": "3.9.18"
  }
 },
 "nbformat": 4,
 "nbformat_minor": 5
}
